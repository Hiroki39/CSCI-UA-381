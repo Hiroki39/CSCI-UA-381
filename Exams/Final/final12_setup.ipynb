{
 "cells": [
  {
   "cell_type": "code",
   "execution_count": 21,
   "metadata": {},
   "outputs": [
    {
     "name": "stdout",
     "output_type": "stream",
     "text": [
      "('PUBLICATION DATE', 'FISCAL YEAR', 'AGENCY CODE', 'AGENCY NAME', 'ALL FUNDS', 'CITY FUND', 'REMARK')\n"
     ]
    },
    {
     "data": {
      "text/html": [
       "<table border=\"1\" class=\"dataframe\">\n",
       "    <thead>\n",
       "        <tr>\n",
       "            <th>PUBLICATION DATE</th> <th>FISCAL YEAR</th> <th>AGENCY CODE</th> <th>AGENCY NAME</th> <th>ALL FUNDS</th> <th>CITY FUND</th> <th>REMARK</th>\n",
       "        </tr>\n",
       "    </thead>\n",
       "    <tbody>\n",
       "        <tr>\n",
       "            <td>20171130        </td> <td>2011       </td> <td>991        </td> <td>General Reserve         </td> <td>0        </td> <td>0        </td> <td>nan   </td>\n",
       "        </tr>\n",
       "        <tr>\n",
       "            <td>20171130        </td> <td>2002       </td> <td>858        </td> <td>D.O.I.T.T.              </td> <td>170951   </td> <td>53506    </td> <td>nan   </td>\n",
       "        </tr>\n",
       "        <tr>\n",
       "            <td>20171130        </td> <td>2008       </td> <td>817        </td> <td>Dept of Mental Health   </td> <td>0        </td> <td>0        </td> <td>nan   </td>\n",
       "        </tr>\n",
       "        <tr>\n",
       "            <td>20171130        </td> <td>2009       </td> <td>991        </td> <td>General Reserve         </td> <td>0        </td> <td>0        </td> <td>nan   </td>\n",
       "        </tr>\n",
       "        <tr>\n",
       "            <td>20171130        </td> <td>2008       </td> <td>819        </td> <td>Health + Hospitals      </td> <td>256837   </td> <td>128181   </td> <td>nan   </td>\n",
       "        </tr>\n",
       "        <tr>\n",
       "            <td>20171130        </td> <td>2002       </td> <td>100        </td> <td>M.A.C. Debt Service     </td> <td>462900   </td> <td>462900   </td> <td>nan   </td>\n",
       "        </tr>\n",
       "        <tr>\n",
       "            <td>20171130        </td> <td>2002       </td> <td>101        </td> <td>Public Advocate         </td> <td>2821     </td> <td>2821     </td> <td>nan   </td>\n",
       "        </tr>\n",
       "        <tr>\n",
       "            <td>20171130        </td> <td>2002       </td> <td>102        </td> <td>City Council            </td> <td>47299    </td> <td>47094    </td> <td>nan   </td>\n",
       "        </tr>\n",
       "        <tr>\n",
       "            <td>20171130        </td> <td>2002       </td> <td>103        </td> <td>City Clerk              </td> <td>2727     </td> <td>2650     </td> <td>nan   </td>\n",
       "        </tr>\n",
       "        <tr>\n",
       "            <td>20171130        </td> <td>2002       </td> <td>125        </td> <td>Department for the Aging</td> <td>231227   </td> <td>166267   </td> <td>nan   </td>\n",
       "        </tr>\n",
       "    </tbody>\n",
       "</table>\n",
       "<p>... (1478 rows omitted)</p>"
      ],
      "text/plain": [
       "PUBLICATION DATE | FISCAL YEAR | AGENCY CODE | AGENCY NAME              | ALL FUNDS | CITY FUND | REMARK\n",
       "20171130         | 2011        | 991         | General Reserve          | 0         | 0         | nan\n",
       "20171130         | 2002        | 858         | D.O.I.T.T.               | 170951    | 53506     | nan\n",
       "20171130         | 2008        | 817         | Dept of Mental Health    | 0         | 0         | nan\n",
       "20171130         | 2009        | 991         | General Reserve          | 0         | 0         | nan\n",
       "20171130         | 2008        | 819         | Health + Hospitals       | 256837    | 128181    | nan\n",
       "20171130         | 2002        | 100         | M.A.C. Debt Service      | 462900    | 462900    | nan\n",
       "20171130         | 2002        | 101         | Public Advocate          | 2821      | 2821      | nan\n",
       "20171130         | 2002        | 102         | City Council             | 47299     | 47094     | nan\n",
       "20171130         | 2002        | 103         | City Clerk               | 2727      | 2650      | nan\n",
       "20171130         | 2002        | 125         | Department for the Aging | 231227    | 166267    | nan\n",
       "... (1478 rows omitted)"
      ]
     },
     "execution_count": 21,
     "metadata": {},
     "output_type": "execute_result"
    }
   ],
   "source": [
    "import datascience as ds\n",
    "import numpy as np\n",
    "%matplotlib inline\n",
    "input_file=\"https://data.cityofnewyork.us/api/views/7yay-m4ae/rows.csv\"\n",
    "input_table = ds.Table.read_table(input_file)\n",
    "input_labels = input_table.labels\n",
    "print(input_labels)\n",
    "input_table"
   ]
  },
  {
   "cell_type": "code",
   "execution_count": null,
   "metadata": {},
   "outputs": [],
   "source": []
  }
 ],
 "metadata": {
  "kernelspec": {
   "display_name": "Python 3",
   "language": "python",
   "name": "python3"
  },
  "language_info": {
   "codemirror_mode": {
    "name": "ipython",
    "version": 3
   },
   "file_extension": ".py",
   "mimetype": "text/x-python",
   "name": "python",
   "nbconvert_exporter": "python",
   "pygments_lexer": "ipython3",
   "version": "3.6.12"
  }
 },
 "nbformat": 4,
 "nbformat_minor": 4
}