{
 "cells": [
  {
   "cell_type": "code",
   "execution_count": 4,
   "metadata": {},
   "outputs": [
    {
     "name": "stdout",
     "output_type": "stream",
     "text": [
      "Longitude | Latitude | City        | Direction | Survivors\n",
      "32        | 54.8     | Smolensk    | Advance   | 145000\n",
      "33.2      | 54.9     | Dorogobouge | Advance   | 140000\n",
      "34.4      | 55.5     | Chjat       | Advance   | 127100\n",
      "37.6      | 55.8     | Moscou      | Advance   | 100000\n",
      "34.3      | 55.2     | Wixma       | Retreat   | 55000\n",
      "32        | 54.6     | Smolensk    | Retreat   | 24000\n",
      "30.4      | 54.4     | Orscha      | Retreat   | 20000\n",
      "26.8      | 54.3     | Moiodexno   | Retreat   | 12000\n"
     ]
    }
   ],
   "source": [
    "import datascience as ds\n",
    "import numpy as np\n",
    "path_data = '/home/meyers/DataScienceTools/Lecture9_scripts/data/'\n",
    "minard = ds.Table.read_table(path_data + 'minard.csv')\n",
    "print(minard)"
   ]
  },
  {
   "cell_type": "code",
   "execution_count": 6,
   "metadata": {},
   "outputs": [
    {
     "name": "stdout",
     "output_type": "stream",
     "text": [
      "There are 5 columns and 8 rows.\n",
      "The columns have these labels ('Longitude', 'Latitude', 'City', 'Direction', 'Survivors')\n"
     ]
    }
   ],
   "source": [
    "print('There are',minard.num_columns,'columns and',minard.num_rows,'rows.')\n",
    "print('The columns have these labels',minard.labels)"
   ]
  },
  {
   "cell_type": "code",
   "execution_count": 8,
   "metadata": {},
   "outputs": [
    {
     "name": "stdout",
     "output_type": "stream",
     "text": [
      "[32.  33.2 34.4 37.6 34.3 32.  30.4 26.8]\n",
      "[54.8 54.9 55.5 55.8 55.2 54.6 54.4 54.3]\n",
      "['Smolensk' 'Dorogobouge' 'Chjat' 'Moscou' 'Wixma' 'Smolensk' 'Orscha'\n",
      " 'Moiodexno']\n",
      "['Advance' 'Advance' 'Advance' 'Advance' 'Retreat' 'Retreat' 'Retreat'\n",
      " 'Retreat']\n",
      "[145000 140000 127100 100000  55000  24000  20000  12000]\n",
      "City column: ['Smolensk' 'Dorogobouge' 'Chjat' 'Moscou' 'Wixma' 'Smolensk' 'Orscha'\n",
      " 'Moiodexno']\n"
     ]
    }
   ],
   "source": [
    "for array in (minard.columns):\n",
    "    print(array)\n",
    "\n",
    "print('City column:',minard.column('City'))"
   ]
  },
  {
   "cell_type": "code",
   "execution_count": 9,
   "metadata": {},
   "outputs": [
    {
     "name": "stdout",
     "output_type": "stream",
     "text": [
      "Longitude | Latitude | Populous Regions | Direction | Survivors\n",
      "32        | 54.8     | Smolensk         | Advance   | 145000\n",
      "33.2      | 54.9     | Dorogobouge      | Advance   | 140000\n",
      "34.4      | 55.5     | Chjat            | Advance   | 127100\n",
      "37.6      | 55.8     | Moscou           | Advance   | 100000\n",
      "34.3      | 55.2     | Wixma            | Retreat   | 55000\n",
      "32        | 54.6     | Smolensk         | Retreat   | 24000\n",
      "30.4      | 54.4     | Orscha           | Retreat   | 20000\n",
      "26.8      | 54.3     | Moiodexno        | Retreat   | 12000\n"
     ]
    }
   ],
   "source": [
    "print(minard.relabeled('City','Populous Regions'))"
   ]
  },
  {
   "cell_type": "code",
   "execution_count": 12,
   "metadata": {},
   "outputs": [
    {
     "name": "stdout",
     "output_type": "stream",
     "text": [
      "West to East Longitude | Latitude | City        | Direction | Survivors\n",
      "26.8      | 54.3     | Moiodexno   | Retreat   | 12000\n",
      "30.4      | 54.4     | Orscha      | Retreat   | 20000\n",
      "32        | 54.8     | Smolensk    | Advance   | 145000\n",
      "32        | 54.6     | Smolensk    | Retreat   | 24000\n",
      "33.2      | 54.9     | Dorogobouge | Advance   | 140000\n",
      "34.3      | 55.2     | Wixma       | Retreat   | 55000\n",
      "34.4      | 55.5     | Chjat       | Advance   | 127100\n",
      "37.6      | 55.8     | Moscou      | Advance   | 100000\n",
      "South to North Longitude | Latitude | City        | Direction | Survivors\n",
      "37.6      | 55.8     | Moscou      | Advance   | 100000\n",
      "34.4      | 55.5     | Chjat       | Advance   | 127100\n",
      "34.3      | 55.2     | Wixma       | Retreat   | 55000\n",
      "33.2      | 54.9     | Dorogobouge | Advance   | 140000\n",
      "32        | 54.8     | Smolensk    | Advance   | 145000\n",
      "32        | 54.6     | Smolensk    | Retreat   | 24000\n",
      "30.4      | 54.4     | Orscha      | Retreat   | 20000\n",
      "26.8      | 54.3     | Moiodexno   | Retreat   | 12000\n"
     ]
    }
   ],
   "source": [
    "print('West to East',minard.sort('Longitude'))\n",
    "print('South to North',minard.sort('Latitude',descending=True))"
   ]
  },
  {
   "cell_type": "code",
   "execution_count": 18,
   "metadata": {},
   "outputs": [
    {
     "name": "stdout",
     "output_type": "stream",
     "text": [
      "1st 5 rows\n"
     ]
    },
    {
     "data": {
      "text/html": [
       "<table border=\"1\" class=\"dataframe\">\n",
       "    <thead>\n",
       "        <tr>\n",
       "            <th>Longitude</th> <th>Latitude</th> <th>City</th> <th>Direction</th> <th>Survivors</th>\n",
       "        </tr>\n",
       "    </thead>\n",
       "    <tbody>\n",
       "        <tr>\n",
       "            <td>32       </td> <td>54.8    </td> <td>Smolensk   </td> <td>Advance  </td> <td>145000   </td>\n",
       "        </tr>\n",
       "        <tr>\n",
       "            <td>33.2     </td> <td>54.9    </td> <td>Dorogobouge</td> <td>Advance  </td> <td>140000   </td>\n",
       "        </tr>\n",
       "        <tr>\n",
       "            <td>34.4     </td> <td>55.5    </td> <td>Chjat      </td> <td>Advance  </td> <td>127100   </td>\n",
       "        </tr>\n",
       "        <tr>\n",
       "            <td>37.6     </td> <td>55.8    </td> <td>Moscou     </td> <td>Advance  </td> <td>100000   </td>\n",
       "        </tr>\n",
       "        <tr>\n",
       "            <td>34.3     </td> <td>55.2    </td> <td>Wixma      </td> <td>Retreat  </td> <td>55000    </td>\n",
       "        </tr>\n",
       "    </tbody>\n",
       "</table>\n",
       "<p>... (3 rows omitted)</p>"
      ],
      "text/plain": [
       "<IPython.core.display.HTML object>"
      ]
     },
     "metadata": {},
     "output_type": "display_data"
    },
    {
     "name": "stdout",
     "output_type": "stream",
     "text": [
      "\n",
      "\n",
      "Selected row\n",
      "\n",
      " Longitude | Latitude | City        | Direction | Survivors\n",
      "33.2      | 54.9     | Dorogobouge | Advance   | 140000\n",
      "\n",
      "\n",
      "Selected rows\n",
      "\n",
      " Longitude | Latitude | City        | Direction | Survivors\n",
      "33.2      | 54.9     | Dorogobouge | Advance   | 140000\n",
      "34.4      | 55.5     | Chjat       | Advance   | 127100\n",
      "37.6      | 55.8     | Moscou      | Advance   | 100000\n",
      "34.3      | 55.2     | Wixma       | Retreat   | 55000\n",
      "32        | 54.6     | Smolensk    | Retreat   | 24000\n"
     ]
    }
   ],
   "source": [
    "print('1st 5 rows')\n",
    "minard.show(5)\n",
    "print('\\n\\nSelected row\\n\\n',minard.take(1))\n",
    "print('\\n\\nSelected rows\\n\\n',minard.take(np.arange(1,6)))"
   ]
  },
  {
   "cell_type": "code",
   "execution_count": 25,
   "metadata": {},
   "outputs": [
    {
     "name": "stdout",
     "output_type": "stream",
     "text": [
      "All Seleted Column or Columns\n",
      "\n",
      "City        | Survivors\n",
      "Smolensk    | 145000\n",
      "Dorogobouge | 140000\n",
      "Chjat       | 127100\n",
      "Moscou      | 100000\n",
      "Wixma       | 55000\n",
      "Smolensk    | 24000\n",
      "Orscha      | 20000\n",
      "Moiodexno   | 12000\n",
      "\n",
      "All Columns except seleted ones\n",
      "\n",
      "Longitude | Latitude | City        | Survivors\n",
      "32        | 54.8     | Smolensk    | 145000\n",
      "33.2      | 54.9     | Dorogobouge | 140000\n",
      "34.4      | 55.5     | Chjat       | 127100\n",
      "37.6      | 55.8     | Moscou      | 100000\n",
      "34.3      | 55.2     | Wixma       | 55000\n",
      "32        | 54.6     | Smolensk    | 24000\n",
      "30.4      | 54.4     | Orscha      | 20000\n",
      "26.8      | 54.3     | Moiodexno   | 12000\n",
      "\n",
      "Choose rows with Column and Value\n",
      "\n",
      "Longitude | Latitude | City  | Direction | Survivors\n",
      "34.3      | 55.2     | Wixma | Retreat   | 55000\n"
     ]
    }
   ],
   "source": [
    "print('All Seleted Column or Columns\\n')\n",
    "print(minard.select('City','Survivors'))\n",
    "print('\\nAll Columns except seleted ones\\n')\n",
    "print(minard.drop('Direction'))\n",
    "print('\\nChoose rows with Column and Value\\n')\n",
    "print(minard.where('City','Wixma'))"
   ]
  },
  {
   "cell_type": "code",
   "execution_count": 26,
   "metadata": {},
   "outputs": [
    {
     "data": {
      "text/plain": [
       "array(['Advance', 'Advance', 'Advance', 'Advance', 'Retreat', 'Retreat',\n",
       "       'Retreat', 'Retreat'], dtype='<U7')"
      ]
     },
     "execution_count": 26,
     "metadata": {},
     "output_type": "execute_result"
    }
   ],
   "source": [
    "minard['Direction']"
   ]
  },
  {
   "cell_type": "code",
   "execution_count": 27,
   "metadata": {},
   "outputs": [
    {
     "data": {
      "text/plain": [
       "'Advance'"
      ]
     },
     "execution_count": 27,
     "metadata": {},
     "output_type": "execute_result"
    }
   ],
   "source": [
    "minard['Direction'][3]"
   ]
  },
  {
   "cell_type": "code",
   "execution_count": null,
   "metadata": {},
   "outputs": [],
   "source": []
  }
 ],
 "metadata": {
  "kernelspec": {
   "display_name": "Python 3",
   "language": "python",
   "name": "python3"
  },
  "language_info": {
   "codemirror_mode": {
    "name": "ipython",
    "version": 3
   },
   "file_extension": ".py",
   "mimetype": "text/x-python",
   "name": "python",
   "nbconvert_exporter": "python",
   "pygments_lexer": "ipython3",
   "version": "3.6.12"
  }
 },
 "nbformat": 4,
 "nbformat_minor": 4
}