{
 "cells": [
  {
   "cell_type": "code",
   "execution_count": 4,
   "metadata": {},
   "outputs": [
    {
     "name": "stdout",
     "output_type": "stream",
     "text": [
      "Ducks | beaks\n",
      "10    | 1\n",
      "5     | 1\n",
      "2     | 2\n"
     ]
    }
   ],
   "source": [
    "import datascience as ds\n",
    "import numpy as np\n",
    "my_table = ds.Table().with_columns('Ducks',ds.make_array(10,5,2),'beaks',ds.make_array(1,1,2))\n",
    "print(my_table)"
   ]
  },
  {
   "cell_type": "code",
   "execution_count": 6,
   "metadata": {},
   "outputs": [
    {
     "name": "stdout",
     "output_type": "stream",
     "text": [
      "Ducks | beaks\n",
      "10    | 1\n",
      "5     | 1\n",
      "2     | 2\n",
      "2     | 4\n"
     ]
    }
   ],
   "source": [
    "my_table = my_table.with_row(ds.make_array(2,4))\n",
    "print(my_table)"
   ]
  },
  {
   "cell_type": "code",
   "execution_count": 7,
   "metadata": {},
   "outputs": [
    {
     "name": "stdout",
     "output_type": "stream",
     "text": [
      "Ducks | beaks\n",
      "10    | 1\n",
      "5     | 1\n",
      "2     | 2\n",
      "2     | 4\n",
      "1     | 2\n",
      "5     | 2\n"
     ]
    }
   ],
   "source": [
    "my_table = my_table.with_rows(ds.make_array(ds.make_array(1,2),ds.make_array(5,2)))\n",
    "print(my_table)"
   ]
  },
  {
   "cell_type": "code",
   "execution_count": null,
   "metadata": {},
   "outputs": [],
   "source": []
  }
 ],
 "metadata": {
  "kernelspec": {
   "display_name": "Python 3",
   "language": "python",
   "name": "python3"
  },
  "language_info": {
   "codemirror_mode": {
    "name": "ipython",
    "version": 3
   },
   "file_extension": ".py",
   "mimetype": "text/x-python",
   "name": "python",
   "nbconvert_exporter": "python",
   "pygments_lexer": "ipython3",
   "version": "3.6.12"
  }
 },
 "nbformat": 4,
 "nbformat_minor": 4
}
