{
 "cells": [
  {
   "cell_type": "code",
   "execution_count": 4,
   "metadata": {},
   "outputs": [
    {
     "data": {
      "text/html": [
       "<table border=\"1\" class=\"dataframe\">\n",
       "    <thead>\n",
       "        <tr>\n",
       "            <th>Flavor</th> <th>Price</th>\n",
       "        </tr>\n",
       "    </thead>\n",
       "    <tbody>\n",
       "        <tr>\n",
       "            <td>strawberry</td> <td>3.55 </td>\n",
       "        </tr>\n",
       "        <tr>\n",
       "            <td>chocolate </td> <td>4.75 </td>\n",
       "        </tr>\n",
       "        <tr>\n",
       "            <td>chocolate </td> <td>6.55 </td>\n",
       "        </tr>\n",
       "        <tr>\n",
       "            <td>strawberry</td> <td>5.25 </td>\n",
       "        </tr>\n",
       "        <tr>\n",
       "            <td>chocolate </td> <td>5.25 </td>\n",
       "        </tr>\n",
       "    </tbody>\n",
       "</table>"
      ],
      "text/plain": [
       "Flavor     | Price\n",
       "strawberry | 3.55\n",
       "chocolate  | 4.75\n",
       "chocolate  | 6.55\n",
       "strawberry | 5.25\n",
       "chocolate  | 5.25"
      ]
     },
     "execution_count": 4,
     "metadata": {},
     "output_type": "execute_result"
    }
   ],
   "source": [
    "import datascience as ds\n",
    "import numpy as np\n",
    "%matplotlib inline\n",
    "cones = ds.Table().with_columns(\n",
    "    'Flavor', ds.make_array('strawberry', 'chocolate', 'chocolate', 'strawberry', 'chocolate'),\n",
    "    'Price', ds.make_array(3.55, 4.75, 6.55, 5.25, 5.25)\n",
    ")\n",
    "cones"
   ]
  },
  {
   "cell_type": "code",
   "execution_count": 5,
   "metadata": {},
   "outputs": [
    {
     "data": {
      "text/html": [
       "<table border=\"1\" class=\"dataframe\">\n",
       "    <thead>\n",
       "        <tr>\n",
       "            <th>Flavor</th> <th>count</th>\n",
       "        </tr>\n",
       "    </thead>\n",
       "    <tbody>\n",
       "        <tr>\n",
       "            <td>chocolate </td> <td>3    </td>\n",
       "        </tr>\n",
       "        <tr>\n",
       "            <td>strawberry</td> <td>2    </td>\n",
       "        </tr>\n",
       "    </tbody>\n",
       "</table>"
      ],
      "text/plain": [
       "Flavor     | count\n",
       "chocolate  | 3\n",
       "strawberry | 2"
      ]
     },
     "execution_count": 5,
     "metadata": {},
     "output_type": "execute_result"
    }
   ],
   "source": [
    "cones.group('Flavor') ## by default group just counts instances, \n",
    "## but it is possible to add functions as a 2nd argument"
   ]
  },
  {
   "cell_type": "code",
   "execution_count": 7,
   "metadata": {},
   "outputs": [
    {
     "name": "stdout",
     "output_type": "stream",
     "text": [
      "Flavor     | Price sum\n",
      "chocolate  | 16.55\n",
      "strawberry | 8.8\n",
      "\n",
      "Flavor     | Price average\n",
      "chocolate  | 5.51667\n",
      "strawberry | 4.4\n"
     ]
    }
   ],
   "source": [
    "def average(sequence):\n",
    "    return(sum(sequence)/len(sequence))\n",
    "print(cones.group('Flavor',sum))\n",
    "print()\n",
    "print(cones.group('Flavor',average))\n"
   ]
  },
  {
   "cell_type": "code",
   "execution_count": 9,
   "metadata": {},
   "outputs": [
    {
     "data": {
      "text/plain": [
       "array([4.75, 6.55, 5.25])"
      ]
     },
     "execution_count": 9,
     "metadata": {},
     "output_type": "execute_result"
    }
   ],
   "source": [
    "cones_choc = cones.where('Flavor', ds.are.equal_to('chocolate')).column('Price')\n",
    "cones_choc"
   ]
  },
  {
   "cell_type": "code",
   "execution_count": 18,
   "metadata": {},
   "outputs": [
    {
     "name": "stdout",
     "output_type": "stream",
     "text": [
      "Flavor     | Array of All the Prices\n",
      "chocolate  | [4.75 6.55 5.25]\n",
      "strawberry | [3.55 5.25]\n",
      "\n",
      "Flavor     | Array of All the Prices | Length of the Array\n",
      "chocolate  | [4.75 6.55 5.25]        | 3\n",
      "strawberry | [3.55 5.25]             | 2\n"
     ]
    }
   ],
   "source": [
    "cones_choc = cones.where('Flavor', ds.are.equal_to('chocolate')).column('Price')\n",
    "cones_strawb = cones.where('Flavor', ds.are.equal_to('strawberry')).column('Price')\n",
    "grouped_cones = ds.Table().with_columns(\n",
    "    'Flavor', ds.make_array('chocolate', 'strawberry'),\n",
    "    'Array of All the Prices', ds.make_array(cones_choc, cones_strawb)\n",
    ")\n",
    "print(grouped_cones)\n",
    "print()\n",
    "lengths = grouped_cones.with_column(\n",
    "    'Length of the Array', ds.make_array(len(cones_choc), len(cones_strawb))\n",
    ")\n",
    "print(lengths)"
   ]
  },
  {
   "cell_type": "code",
   "execution_count": 25,
   "metadata": {},
   "outputs": [
    {
     "data": {
      "text/html": [
       "<table border=\"1\" class=\"dataframe\">\n",
       "    <thead>\n",
       "        <tr>\n",
       "            <th>Flavor</th> <th>Color</th> <th>Price</th>\n",
       "        </tr>\n",
       "    </thead>\n",
       "    <tbody>\n",
       "        <tr>\n",
       "            <td>strawberry</td> <td>pink       </td> <td>3.55 </td>\n",
       "        </tr>\n",
       "        <tr>\n",
       "            <td>chocolate </td> <td>light brown</td> <td>4.75 </td>\n",
       "        </tr>\n",
       "        <tr>\n",
       "            <td>chocolate </td> <td>dark brown </td> <td>5.25 </td>\n",
       "        </tr>\n",
       "        <tr>\n",
       "            <td>strawberry</td> <td>pink       </td> <td>5.25 </td>\n",
       "        </tr>\n",
       "        <tr>\n",
       "            <td>chocolate </td> <td>dark brown </td> <td>5.25 </td>\n",
       "        </tr>\n",
       "        <tr>\n",
       "            <td>bubblegum </td> <td>pink       </td> <td>4.75 </td>\n",
       "        </tr>\n",
       "    </tbody>\n",
       "</table>"
      ],
      "text/plain": [
       "Flavor     | Color       | Price\n",
       "strawberry | pink        | 3.55\n",
       "chocolate  | light brown | 4.75\n",
       "chocolate  | dark brown  | 5.25\n",
       "strawberry | pink        | 5.25\n",
       "chocolate  | dark brown  | 5.25\n",
       "bubblegum  | pink        | 4.75"
      ]
     },
     "execution_count": 25,
     "metadata": {},
     "output_type": "execute_result"
    }
   ],
   "source": [
    "more_cones = ds.Table().with_columns(\n",
    "    'Flavor', ds.make_array('strawberry', 'chocolate', 'chocolate', 'strawberry', 'chocolate', 'bubblegum',),\n",
    "    'Color', ds.make_array('pink', 'light brown', 'dark brown', 'pink', 'dark brown', 'pink'),\n",
    "    'Price', ds.make_array(3.55, 4.75, 5.25, 5.25, 5.25, 4.75)\n",
    ")\n",
    "\n",
    "more_cones\n"
   ]
  },
  {
   "cell_type": "code",
   "execution_count": 31,
   "metadata": {},
   "outputs": [
    {
     "name": "stdout",
     "output_type": "stream",
     "text": [
      "Flavor     | count\n",
      "bubblegum  | 1\n",
      "chocolate  | 3\n",
      "strawberry | 2\n",
      "\n",
      "Flavor     | Color       | count\n",
      "bubblegum  | pink        | 1\n",
      "chocolate  | dark brown  | 2\n",
      "chocolate  | light brown | 1\n",
      "strawberry | pink        | 2\n",
      "\n",
      "Flavor     | Color       | Price | count\n",
      "bubblegum  | pink        | 4.75  | 1\n",
      "chocolate  | dark brown  | 5.25  | 2\n",
      "chocolate  | light brown | 4.75  | 1\n",
      "strawberry | pink        | 3.55  | 1\n",
      "strawberry | pink        | 5.25  | 1\n"
     ]
    }
   ],
   "source": [
    "print(more_cones.group('Flavor'))\n",
    "print()\n",
    "print(more_cones.group(['Flavor', 'Color']))\n",
    "print()\n",
    "print(more_cones.group(['Flavor', 'Color','Price']))"
   ]
  },
  {
   "cell_type": "code",
   "execution_count": 34,
   "metadata": {},
   "outputs": [
    {
     "name": "stdout",
     "output_type": "stream",
     "text": [
      "Flavor     | Color       | Price sum\n",
      "bubblegum  | pink        | 4.75\n",
      "chocolate  | dark brown  | 10.5\n",
      "chocolate  | light brown | 4.75\n",
      "strawberry | pink        | 8.8\n",
      "\n",
      "Flavor     | Color       | Price average\n",
      "bubblegum  | pink        | 4.75\n",
      "chocolate  | dark brown  | 5.25\n",
      "chocolate  | light brown | 4.75\n",
      "strawberry | pink        | 4.4\n"
     ]
    }
   ],
   "source": [
    "print(more_cones.group(['Flavor', 'Color'], sum))\n",
    "print()\n",
    "print(more_cones.group(['Flavor', 'Color'], average) )## average -- defined in a previous cell"
   ]
  },
  {
   "cell_type": "code",
   "execution_count": 37,
   "metadata": {},
   "outputs": [
    {
     "name": "stdout",
     "output_type": "stream",
     "text": [
      "Flavor     | Color       | Price\n",
      "strawberry | pink        | 3.55\n",
      "chocolate  | light brown | 4.75\n",
      "chocolate  | dark brown  | 5.25\n",
      "strawberry | pink        | 5.25\n",
      "chocolate  | dark brown  | 5.25\n",
      "bubblegum  | pink        | 4.75\n",
      "\n",
      "Color       | bubblegum | chocolate | strawberry\n",
      "dark brown  | 0         | 10.5      | 0\n",
      "light brown | 0         | 4.75      | 0\n",
      "pink        | 4.75      | 0         | 8.8\n"
     ]
    }
   ],
   "source": [
    "print(more_cones)  ## pivot changes the first column -- the column \n",
    "## that the other column labels are being compared to\n",
    "print()\n",
    "print(more_cones.pivot('Flavor', 'Color', values='Price', collect=sum))"
   ]
  },
  {
   "cell_type": "code",
   "execution_count": 42,
   "metadata": {},
   "outputs": [
    {
     "name": "stdout",
     "output_type": "stream",
     "text": [
      "2 Related Tables\n",
      "\n",
      "\n",
      "cones\n",
      "\n",
      " Flavor     | Price\n",
      "strawberry | 3.55\n",
      "vanilla    | 4.75\n",
      "chocolate  | 6.55\n",
      "strawberry | 5.25\n",
      "chocolate  | 5.75\n",
      "\n",
      "\n",
      "ratings\n",
      "\n",
      " Kind       | Stars\n",
      "strawberry | 2.5\n",
      "chocolate  | 3.5\n",
      "vanilla    | 4\n"
     ]
    }
   ],
   "source": [
    "print('2 Related Tables\\n\\n')\n",
    "cones = ds.Table().with_columns(\n",
    "    'Flavor', ds.make_array('strawberry', 'vanilla', 'chocolate', 'strawberry', 'chocolate'),\n",
    "    'Price', ds.make_array(3.55, 4.75, 6.55, 5.25, 5.75)\n",
    ")\n",
    "print('cones\\n\\n',cones)\n",
    "ratings = ds.Table().with_columns(\n",
    "    'Kind', ds.make_array('strawberry', 'chocolate', 'vanilla'),\n",
    "    'Stars', ds.make_array(2.5, 3.5, 4)\n",
    ")\n",
    "print('\\n\\nratings\\n\\n',ratings)\n"
   ]
  },
  {
   "cell_type": "code",
   "execution_count": 43,
   "metadata": {},
   "outputs": [
    {
     "name": "stdout",
     "output_type": "stream",
     "text": [
      "2 Tables joined together\n",
      " Flavor     | Price | Stars\n",
      "chocolate  | 6.55  | 3.5\n",
      "chocolate  | 5.75  | 3.5\n",
      "strawberry | 3.55  | 2.5\n",
      "strawberry | 5.25  | 2.5\n",
      "vanilla    | 4.75  | 4\n"
     ]
    }
   ],
   "source": [
    "rated = cones.join('Flavor', ratings, 'Kind')\n",
    "print('2 Tables joined together\\n',rated)"
   ]
  },
  {
   "cell_type": "code",
   "execution_count": 44,
   "metadata": {},
   "outputs": [
    {
     "name": "stdout",
     "output_type": "stream",
     "text": [
      "Flavor     | Price | Stars | $/Star\n",
      "vanilla    | 4.75  | 4     | 1.1875\n",
      "strawberry | 3.55  | 2.5   | 1.42\n",
      "chocolate  | 5.75  | 3.5   | 1.64286\n",
      "chocolate  | 6.55  | 3.5   | 1.87143\n",
      "strawberry | 5.25  | 2.5   | 2.1\n"
     ]
    }
   ],
   "source": [
    "print(rated.with_column('$/Star', rated.column('Price') / rated.column('Stars')).sort(3))\n",
    "## adding a column that merges information from the two original columns"
   ]
  },
  {
   "cell_type": "code",
   "execution_count": null,
   "metadata": {},
   "outputs": [],
   "source": []
  }
 ],
 "metadata": {
  "kernelspec": {
   "display_name": "Python 3",
   "language": "python",
   "name": "python3"
  },
  "language_info": {
   "codemirror_mode": {
    "name": "ipython",
    "version": 3
   },
   "file_extension": ".py",
   "mimetype": "text/x-python",
   "name": "python",
   "nbconvert_exporter": "python",
   "pygments_lexer": "ipython3",
   "version": "3.6.12"
  }
 },
 "nbformat": 4,
 "nbformat_minor": 4
}
