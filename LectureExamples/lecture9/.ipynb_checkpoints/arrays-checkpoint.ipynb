{
 "cells": [
  {
   "cell_type": "code",
   "execution_count": 57,
   "metadata": {},
   "outputs": [],
   "source": [
    "import datascience"
   ]
  },
  {
   "cell_type": "code",
   "execution_count": 58,
   "metadata": {},
   "outputs": [
    {
     "name": "stdout",
     "output_type": "stream",
     "text": [
      "list * 3: [1, 2, 3, 4, 1, 2, 3, 4, 1, 2, 3, 4]\n",
      "array * 3: [[ 3  6  9 12]]\n"
     ]
    }
   ],
   "source": [
    "list_of_numbers = [1,2,3,4]\n",
    "array_of_numbers = datascience.make_array([1,2,3,4])\n",
    "print('list * 3:',list_of_numbers*3)\n",
    "print('array * 3:',array_of_numbers*3)"
   ]
  },
  {
   "cell_type": "code",
   "execution_count": 59,
   "metadata": {},
   "outputs": [
    {
     "name": "stdout",
     "output_type": "stream",
     "text": [
      "[[[ 1  4  9 16]\n",
      "  [ 1  4  9 16]]]\n"
     ]
    }
   ],
   "source": [
    "array_2d = datascience.make_array([[1,2,3,4],[1,2,3,4]])\n",
    "print(array_2d*array_of_numbers)"
   ]
  },
  {
   "cell_type": "code",
   "execution_count": 60,
   "metadata": {},
   "outputs": [
    {
     "name": "stdout",
     "output_type": "stream",
     "text": [
      "[[[1 2 3 4]\n",
      "  [1 2 3 4]]] +\n",
      " [[[1 1 1 1]\n",
      "  [0 1 0 1]]] \n",
      "= [[[2 3 4 5]\n",
      "  [1 3 3 5]]]\n"
     ]
    }
   ],
   "source": [
    "array_2d_add = datascience.make_array([[1,1,1,1],[0,1,0,1]])\n",
    "print (array_2d,'+\\n',array_2d_add,'\\n=',array_2d+array_2d_add)\n"
   ]
  },
  {
   "cell_type": "code",
   "execution_count": 61,
   "metadata": {},
   "outputs": [
    {
     "name": "stdout",
     "output_type": "stream",
     "text": [
      "[[[6 7 8 9]\n",
      "  [6 7 8 9]]]\n"
     ]
    }
   ],
   "source": [
    "print(array_2d+5)\n"
   ]
  },
  {
   "cell_type": "code",
   "execution_count": 62,
   "metadata": {},
   "outputs": [
    {
     "name": "stdout",
     "output_type": "stream",
     "text": [
      "[[[1 2 3 4]\n",
      "  [1 2 3 4]]]\n",
      "[[[ 2  6 12 20]\n",
      "  [ 2  6 12 20]]]\n"
     ]
    }
   ],
   "source": [
    "print(array_2d)\n",
    "print(array_2d * datascience.make_array([2,3,4,5]))\n",
    "      "
   ]
  },
  {
   "cell_type": "code",
   "execution_count": 63,
   "metadata": {},
   "outputs": [
    {
     "name": "stdout",
     "output_type": "stream",
     "text": [
      "[[[3 5 7 9]\n",
      "  [3 5 7 9]]]\n"
     ]
    }
   ],
   "source": [
    "print(array_2d + datascience.make_array([2,3,4,5]))"
   ]
  },
  {
   "cell_type": "code",
   "execution_count": 66,
   "metadata": {},
   "outputs": [
    {
     "name": "stdout",
     "output_type": "stream",
     "text": [
      "pairwise_product\n",
      "factor1 [[[1 2 3 4]\n",
      "  [1 2 3 4]]]\n",
      "factor2 [[[ 2  4  6  8]\n",
      "  [ 3  6  9 12]]]\n",
      "pairwise product [[[ 2  8 18 32]\n",
      "  [ 3 12 27 48]]]\n"
     ]
    }
   ],
   "source": [
    "print('pairwise_product')\n",
    "print('factor1',array_2d)\n",
    "multiplier = datascience.make_array([[2,4,6,8],[3,6,9,12]])\n",
    "print('factor2',multiplier)\n",
    "print('pairwise product',array_2d*multiplier)"
   ]
  },
  {
   "cell_type": "code",
   "execution_count": null,
   "metadata": {},
   "outputs": [],
   "source": [
    "import numpy as np\n",
    "tic_tac_toe = datascience.make_array([[1, 0, 0],\n",
    "  [0,-1,0],\n",
    "  [0,0,1]])\n",
    "change_sides = datascience.make_array([[-1,-1,-1],[-1,-1,-1],[-1,-1,-1]])\n",
    "flip = datascience.make_array([[0,0,1],[0,1,0],[1,0,0]])\n",
    "print('change sides',change_sides*tic_tac_toe)\n",
    "print('flip',np.matmul(flip,tic_tac_toe))\n",
    "print('flip 2',np.matmul(tic_tac_toe,flip))"
   ]
  },
  {
   "cell_type": "code",
   "execution_count": null,
   "metadata": {},
   "outputs": [],
   "source": [
    "matrix1 = datascience.make_array([[1,2,3],[4,5,6],[7,8,9]])\n",
    "vector1 = datascience.make_array([1,2,3])\n",
    "print('matrix times vector',matrix1*vector1)"
   ]
  },
  {
   "cell_type": "code",
   "execution_count": 77,
   "metadata": {},
   "outputs": [
    {
     "name": "stdout",
     "output_type": "stream",
     "text": [
      "trade_sides: [[[-1  0  0]\n",
      "  [ 0  1  1]\n",
      "  [ 0  0 -1]]]\n",
      "flip horizontally: [[[ 0  0  1]\n",
      "  [ 0 -1 -1]\n",
      "  [ 1  0  0]]]\n",
      "flip vertically: [[[ 0  0  1]\n",
      "  [-1 -1  0]\n",
      "  [ 1  0  0]]]\n"
     ]
    }
   ],
   "source": [
    "tic_tac_toe_snapshot = datascience.make_array([[1,0,0],[0,-1,-1],[0,0,1]])\n",
    "print('trade_sides:',-1 * tic_tac_toe_snapshot)\n",
    "flip = datascience.make_array([[0,0,1],[0,1,0],[1,0,0]])\n",
    "print('flip horizontally:',np.matmul(flip,tic_tac_toe_snapshot))\n",
    "print('flip vertically:',np.matmul(tic_tac_toe_snapshot,flip))      "
   ]
  },
  {
   "cell_type": "code",
   "execution_count": null,
   "metadata": {},
   "outputs": [],
   "source": []
  }
 ],
 "metadata": {
  "kernelspec": {
   "display_name": "Python 3",
   "language": "python",
   "name": "python3"
  },
  "language_info": {
   "codemirror_mode": {
    "name": "ipython",
    "version": 3
   },
   "file_extension": ".py",
   "mimetype": "text/x-python",
   "name": "python",
   "nbconvert_exporter": "python",
   "pygments_lexer": "ipython3",
   "version": "3.6.12"
  }
 },
 "nbformat": 4,
 "nbformat_minor": 4
}
