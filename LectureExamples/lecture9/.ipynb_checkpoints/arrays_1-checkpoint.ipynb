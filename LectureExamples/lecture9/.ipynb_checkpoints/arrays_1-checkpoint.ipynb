{
 "cells": [
  {
   "cell_type": "code",
   "execution_count": 1,
   "metadata": {},
   "outputs": [
    {
     "name": "stderr",
     "output_type": "stream",
     "text": [
      "/home/meyers/.local/lib/python3.7/site-packages/datascience/tables.py:17: MatplotlibDeprecationWarning: The 'warn' parameter of use() is deprecated since Matplotlib 3.1 and will be removed in 3.3.  If any parameter follows 'warn', they should be pass as keyword, not positionally.\n",
      "  matplotlib.use('agg', warn=False)\n",
      "/home/meyers/.local/lib/python3.7/site-packages/datascience/util.py:10: MatplotlibDeprecationWarning: The 'warn' parameter of use() is deprecated since Matplotlib 3.1 and will be removed in 3.3.  If any parameter follows 'warn', they should be pass as keyword, not positionally.\n",
      "  matplotlib.use('agg', warn=False)\n"
     ]
    }
   ],
   "source": [
    "import datascience"
   ]
  },
  {
   "cell_type": "code",
   "execution_count": 4,
   "metadata": {},
   "outputs": [
    {
     "name": "stdout",
     "output_type": "stream",
     "text": [
      "list * 3: [1, 2, 3, 4, 1, 2, 3, 4, 1, 2, 3, 4]\n",
      "array * 3: [[ 3  6  9 12]]\n"
     ]
    }
   ],
   "source": [
    "list_of_numbers = [1,2,3,4]\n",
    "array_of_numbers = datascience.make_array([1,2,3,4])\n",
    "print('list * 3:',list_of_numbers*3)\n",
    "print('array * 3:',array_of_numbers*3)"
   ]
  },
  {
   "cell_type": "code",
   "execution_count": 6,
   "metadata": {},
   "outputs": [
    {
     "name": "stdout",
     "output_type": "stream",
     "text": [
      "[[[ 1  4  9 16]\n",
      "  [ 1  4  9 16]]]\n"
     ]
    }
   ],
   "source": [
    "array_2d = datascience.make_array([[1,2,3,4],[1,2,3,4]])\n",
    "print(array_2d*array_of_numbers)"
   ]
  },
  {
   "cell_type": "code",
   "execution_count": 10,
   "metadata": {},
   "outputs": [
    {
     "name": "stdout",
     "output_type": "stream",
     "text": [
      "[[[1 2 3 4]\n",
      "  [1 2 3 4]]] +\n",
      " [[[1 1 1 1]\n",
      "  [0 1 0 1]]] \n",
      "= [[[2 3 4 5]\n",
      "  [1 3 3 5]]]\n"
     ]
    }
   ],
   "source": [
    "array_2d_add = datascience.make_array([[1,1,1,1],[0,1,0,1]])\n",
    "print (array_2d,'+\\n',array_2d_add,'\\n=',array_2d+array_2d_add)\n"
   ]
  },
  {
   "cell_type": "code",
   "execution_count": 11,
   "metadata": {},
   "outputs": [
    {
     "name": "stdout",
     "output_type": "stream",
     "text": [
      "[[[6 7 8 9]\n",
      "  [6 7 8 9]]]\n"
     ]
    }
   ],
   "source": [
    "print(array_2d+5)\n"
   ]
  },
  {
   "cell_type": "code",
   "execution_count": 14,
   "metadata": {},
   "outputs": [
    {
     "name": "stdout",
     "output_type": "stream",
     "text": [
      "[[[1 2 3 4]\n",
      "  [1 2 3 4]]]\n",
      "[[[ 2  6 12 20]\n",
      "  [ 2  6 12 20]]]\n"
     ]
    }
   ],
   "source": [
    "print(array_2d)\n",
    "print(array_2d * datascience.make_array([2,3,4,5]))\n",
    "      "
   ]
  },
  {
   "cell_type": "code",
   "execution_count": 15,
   "metadata": {},
   "outputs": [
    {
     "name": "stdout",
     "output_type": "stream",
     "text": [
      "[[[3 5 7 9]\n",
      "  [3 5 7 9]]]\n"
     ]
    }
   ],
   "source": [
    "print(array_2d + datascience.make_array([2,3,4,5]))"
   ]
  },
  {
   "cell_type": "code",
   "execution_count": null,
   "metadata": {},
   "outputs": [],
   "source": []
  }
 ],
 "metadata": {
  "kernelspec": {
   "display_name": "Python 3",
   "language": "python",
   "name": "python3"
  },
  "language_info": {
   "codemirror_mode": {
    "name": "ipython",
    "version": 3
   },
   "file_extension": ".py",
   "mimetype": "text/x-python",
   "name": "python",
   "nbconvert_exporter": "python",
   "pygments_lexer": "ipython3",
   "version": "3.6.12"
  }
 },
 "nbformat": 4,
 "nbformat_minor": 4
}
